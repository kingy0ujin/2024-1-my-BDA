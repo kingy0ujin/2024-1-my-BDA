{
  "cells": [
    {
      "cell_type": "markdown",
      "metadata": {
        "id": "view-in-github",
        "colab_type": "text"
      },
      "source": [
        "<a href=\"https://colab.research.google.com/github/kingy0ujin/2024-1-my-BDA/blob/main/inclass/11w_0521_tue_B_conda_ch11_geocode_folium.ipynb\" target=\"_parent\"><img src=\"https://colab.research.google.com/assets/colab-badge.svg\" alt=\"Open In Colab\"/></a>"
      ]
    },
    {
      "cell_type": "markdown",
      "id": "718b98f7",
      "metadata": {
        "id": "718b98f7"
      },
      "source": [
        "# **빅데이터분석프로그래밍**\n",
        "> 11주차 B반"
      ]
    },
    {
      "cell_type": "markdown",
      "id": "33d8534b",
      "metadata": {
        "id": "33d8534b"
      },
      "source": [
        "# 파이썬 설치 확인"
      ]
    },
    {
      "cell_type": "code",
      "execution_count": null,
      "id": "aacea6b6",
      "metadata": {
        "id": "aacea6b6",
        "outputId": "b4a9f260-2a96-44e9-ee71-0ee8dd053932",
        "colab": {
          "base_uri": "https://localhost:8080/"
        }
      },
      "outputs": [
        {
          "output_type": "execute_result",
          "data": {
            "text/plain": [
              "['/usr/local/lib/python3.10/dist-packages',\n",
              " '/usr/lib/python3/dist-packages',\n",
              " '/usr/lib/python3.10/dist-packages']"
            ]
          },
          "metadata": {},
          "execution_count": 1
        }
      ],
      "source": [
        "import site\n",
        "site.getsitepackages()"
      ]
    },
    {
      "cell_type": "code",
      "execution_count": null,
      "id": "e8534472",
      "metadata": {
        "id": "e8534472",
        "outputId": "9bae96fc-9469-45f2-d2c9-5174eef3c73c",
        "colab": {
          "base_uri": "https://localhost:8080/"
        }
      },
      "outputs": [
        {
          "output_type": "stream",
          "name": "stdout",
          "text": [
            "3.10.12 (main, Nov 20 2023, 15:14:05) [GCC 11.4.0]\n",
            "2.0.3\n",
            "1.25.2\n",
            "0.13.1\n"
          ]
        }
      ],
      "source": [
        "import sys\n",
        "import pandas as pd\n",
        "import numpy as np\n",
        "import seaborn as sns\n",
        "# import missingno as msno\n",
        "\n",
        "print(sys.version)\n",
        "print(pd.__version__)\n",
        "print(np.__version__)\n",
        "print(sns.__version__)\n",
        "# print(msno.__version__)"
      ]
    },
    {
      "cell_type": "markdown",
      "id": "d8fc5963",
      "metadata": {
        "id": "d8fc5963"
      },
      "source": [
        "# PC에서 한글 처리"
      ]
    },
    {
      "cell_type": "code",
      "execution_count": null,
      "id": "6632bc04",
      "metadata": {
        "id": "6632bc04"
      },
      "outputs": [],
      "source": [
        "import warnings\n",
        "warnings.filterwarnings(action='ignore')"
      ]
    },
    {
      "cell_type": "code",
      "execution_count": null,
      "id": "63f25631",
      "metadata": {
        "id": "63f25631"
      },
      "outputs": [],
      "source": [
        "import matplotlib.pyplot as plt\n",
        "\n",
        "plt.rc('font', family='Malgun Gothic')\n",
        "plt.rc('axes', unicode_minus=False)\n",
        "# plt.rcParams['font.family'] ='Malgun Gothic'\n",
        "# plt.rcParams['axes.unicode_minus'] = False"
      ]
    },
    {
      "cell_type": "markdown",
      "id": "c66489dd",
      "metadata": {
        "id": "c66489dd"
      },
      "source": [
        "## 그래프 설정"
      ]
    },
    {
      "cell_type": "code",
      "execution_count": null,
      "id": "8d1c0b02",
      "metadata": {
        "id": "8d1c0b02"
      },
      "outputs": [],
      "source": [
        "# 그림 선명하게\n",
        "%config InlineBackend.figure_format = 'retina'"
      ]
    },
    {
      "cell_type": "code",
      "execution_count": null,
      "id": "d788ae5a",
      "metadata": {
        "id": "d788ae5a"
      },
      "outputs": [],
      "source": [
        "# 그림 해상도와 크기: 해상도를 높이면 크기에 비례에 커짐\n",
        "import matplotlib.pyplot as plt\n",
        "\n",
        "plt.rcParams.update({'figure.dpi' : '100'})             # 해상도, 기본값 72\n",
        "plt.rcParams.update({'figure.figsize' : [4, 2.5]})      # 그림 크기, 기본값 [6, 4]"
      ]
    },
    {
      "cell_type": "code",
      "execution_count": null,
      "id": "4ccdf069",
      "metadata": {
        "id": "4ccdf069"
      },
      "outputs": [],
      "source": [
        "# 모든 설정 되돌리기\n",
        "# plt.rcParams.update(plt.rcParamsDefault)"
      ]
    },
    {
      "cell_type": "code",
      "execution_count": null,
      "id": "d9cf8f23",
      "metadata": {
        "id": "d9cf8f23"
      },
      "outputs": [],
      "source": [
        "# 데이터프레임의 소수점 이하 n(2)자리 출력 설정\n",
        "pd.set_option('display.precision', 2)"
      ]
    },
    {
      "cell_type": "code",
      "execution_count": null,
      "id": "39be465b",
      "metadata": {
        "id": "39be465b",
        "outputId": "e19e059f-d507-4ee9-eee7-bad63db0e938",
        "colab": {
          "base_uri": "https://localhost:8080/",
          "height": 1000
        }
      },
      "outputs": [
        {
          "output_type": "stream",
          "name": "stderr",
          "text": [
            "WARNING:matplotlib.font_manager:findfont: Font family 'Malgun Gothic' not found.\n",
            "WARNING:matplotlib.font_manager:findfont: Font family 'Malgun Gothic' not found.\n",
            "WARNING:matplotlib.font_manager:findfont: Font family 'Malgun Gothic' not found.\n",
            "WARNING:matplotlib.font_manager:findfont: Font family 'Malgun Gothic' not found.\n",
            "WARNING:matplotlib.font_manager:findfont: Font family 'Malgun Gothic' not found.\n",
            "WARNING:matplotlib.font_manager:findfont: Font family 'Malgun Gothic' not found.\n",
            "WARNING:matplotlib.font_manager:findfont: Font family 'Malgun Gothic' not found.\n",
            "WARNING:matplotlib.font_manager:findfont: Font family 'Malgun Gothic' not found.\n",
            "WARNING:matplotlib.font_manager:findfont: Font family 'Malgun Gothic' not found.\n",
            "WARNING:matplotlib.font_manager:findfont: Font family 'Malgun Gothic' not found.\n",
            "WARNING:matplotlib.font_manager:findfont: Font family 'Malgun Gothic' not found.\n",
            "WARNING:matplotlib.font_manager:findfont: Font family 'Malgun Gothic' not found.\n",
            "WARNING:matplotlib.font_manager:findfont: Font family 'Malgun Gothic' not found.\n",
            "WARNING:matplotlib.font_manager:findfont: Font family 'Malgun Gothic' not found.\n",
            "WARNING:matplotlib.font_manager:findfont: Font family 'Malgun Gothic' not found.\n",
            "WARNING:matplotlib.font_manager:findfont: Font family 'Malgun Gothic' not found.\n",
            "WARNING:matplotlib.font_manager:findfont: Font family 'Malgun Gothic' not found.\n",
            "WARNING:matplotlib.font_manager:findfont: Font family 'Malgun Gothic' not found.\n",
            "WARNING:matplotlib.font_manager:findfont: Font family 'Malgun Gothic' not found.\n",
            "WARNING:matplotlib.font_manager:findfont: Font family 'Malgun Gothic' not found.\n",
            "WARNING:matplotlib.font_manager:findfont: Font family 'Malgun Gothic' not found.\n",
            "WARNING:matplotlib.font_manager:findfont: Font family 'Malgun Gothic' not found.\n",
            "WARNING:matplotlib.font_manager:findfont: Font family 'Malgun Gothic' not found.\n",
            "WARNING:matplotlib.font_manager:findfont: Font family 'Malgun Gothic' not found.\n",
            "WARNING:matplotlib.font_manager:findfont: Font family 'Malgun Gothic' not found.\n",
            "WARNING:matplotlib.font_manager:findfont: Font family 'Malgun Gothic' not found.\n",
            "WARNING:matplotlib.font_manager:findfont: Font family 'Malgun Gothic' not found.\n",
            "WARNING:matplotlib.font_manager:findfont: Font family 'Malgun Gothic' not found.\n",
            "WARNING:matplotlib.font_manager:findfont: Font family 'Malgun Gothic' not found.\n",
            "WARNING:matplotlib.font_manager:findfont: Font family 'Malgun Gothic' not found.\n",
            "WARNING:matplotlib.font_manager:findfont: Font family 'Malgun Gothic' not found.\n",
            "WARNING:matplotlib.font_manager:findfont: Font family 'Malgun Gothic' not found.\n",
            "WARNING:matplotlib.font_manager:findfont: Font family 'Malgun Gothic' not found.\n",
            "WARNING:matplotlib.font_manager:findfont: Font family 'Malgun Gothic' not found.\n",
            "WARNING:matplotlib.font_manager:findfont: Font family 'Malgun Gothic' not found.\n",
            "WARNING:matplotlib.font_manager:findfont: Font family 'Malgun Gothic' not found.\n",
            "WARNING:matplotlib.font_manager:findfont: Font family 'Malgun Gothic' not found.\n",
            "WARNING:matplotlib.font_manager:findfont: Font family 'Malgun Gothic' not found.\n",
            "WARNING:matplotlib.font_manager:findfont: Font family 'Malgun Gothic' not found.\n",
            "WARNING:matplotlib.font_manager:findfont: Font family 'Malgun Gothic' not found.\n",
            "WARNING:matplotlib.font_manager:findfont: Font family 'Malgun Gothic' not found.\n",
            "WARNING:matplotlib.font_manager:findfont: Font family 'Malgun Gothic' not found.\n",
            "WARNING:matplotlib.font_manager:findfont: Font family 'Malgun Gothic' not found.\n"
          ]
        },
        {
          "output_type": "display_data",
          "data": {
            "text/plain": [
              "<Figure size 400x250 with 1 Axes>"
            ],
            "image/png": "[encoded data removed]"
          },
          "metadata": {
            "image/png": {
              "width": 362,
              "height": 277
            }
          }
        }
      ],
      "source": [
        "import matplotlib.pyplot as plt\n",
        "\n",
        "plt.plot([-10, 5, -3, 1])\n",
        "plt.title('그래프 제목')\n",
        "plt.xlabel('직선')\n",
        "plt.show()"
      ]
    },
    {
      "cell_type": "code",
      "execution_count": null,
      "id": "g0_y7qSVtwsk",
      "metadata": {
        "colab": {
          "base_uri": "https://localhost:8080/"
        },
        "id": "g0_y7qSVtwsk",
        "outputId": "3df0e232-6404-4470-d5cd-9e2b702687a4"
      },
      "outputs": [
        {
          "output_type": "stream",
          "name": "stdout",
          "text": [
            "Cloning into 'data'...\n",
            "remote: Enumerating objects: 46, done.\u001b[K\n",
            "remote: Counting objects: 100% (46/46), done.\u001b[K\n",
            "remote: Compressing objects: 100% (44/44), done.\u001b[K\n",
            "remote: Total 46 (delta 7), reused 7 (delta 1), pack-reused 0\u001b[K\n",
            "Receiving objects: 100% (46/46), 4.59 MiB | 3.07 MiB/s, done.\n",
            "Resolving deltas: 100% (7/7), done.\n"
          ]
        }
      ],
      "source": [
        "!git clone https://github.com/ai7dnn/data.git"
      ]
    },
    {
      "cell_type": "markdown",
      "id": "bf715df4",
      "metadata": {
        "id": "bf715df4"
      },
      "source": [
        "# 11 지도 시각화\n",
        "\n",
        "## 11-1 시군구별 인구 단계 구분도 만들기\n",
        "- 단계 구분도(choropleth map) : 지역별 통계치를 색깔 차이로 표현한 지도\n",
        "- 인구, 소득 같은 통계치가 지역별로 어떻게 다른지 이해 가능\n",
        "### 시군구별 인구 단계 구분도 만들기\n",
        "\n",
        "#### 1. 시군구 경계 지도 데이터 준비하기"
      ]
    },
    {
      "cell_type": "code",
      "execution_count": null,
      "id": "63200adb",
      "metadata": {
        "eval": false,
        "id": "63200adb",
        "colab": {
          "base_uri": "https://localhost:8080/",
          "height": 182
        },
        "outputId": "b56253bc-600f-4db6-cdd1-d4f1cc354be7"
      },
      "outputs": [
        {
          "output_type": "error",
          "ename": "FileNotFoundError",
          "evalue": "[Errno 2] No such file or directory: 'data/SIG.geojson'",
          "traceback": [
            "\u001b[0;31m---------------------------------------------------------------------------\u001b[0m",
            "\u001b[0;31mFileNotFoundError\u001b[0m                         Traceback (most recent call last)",
            "\u001b[0;32m<ipython-input-11-65ee79437df1>\u001b[0m in \u001b[0;36m<cell line: 4>\u001b[0;34m()\u001b[0m\n\u001b[1;32m      2\u001b[0m \u001b[0;31m# 행정 구역 코드, 지역 이름, 경계 위도/경도 좌표\u001b[0m\u001b[0;34m\u001b[0m\u001b[0;34m\u001b[0m\u001b[0m\n\u001b[1;32m      3\u001b[0m \u001b[0;32mimport\u001b[0m \u001b[0mjson\u001b[0m\u001b[0;34m\u001b[0m\u001b[0;34m\u001b[0m\u001b[0m\n\u001b[0;32m----> 4\u001b[0;31m \u001b[0mgeo\u001b[0m \u001b[0;34m=\u001b[0m \u001b[0mjson\u001b[0m\u001b[0;34m.\u001b[0m\u001b[0mload\u001b[0m\u001b[0;34m(\u001b[0m\u001b[0mopen\u001b[0m\u001b[0;34m(\u001b[0m\u001b[0;34m'data/SIG.geojson'\u001b[0m\u001b[0;34m,\u001b[0m \u001b[0mencoding\u001b[0m \u001b[0;34m=\u001b[0m \u001b[0;34m'UTF-8'\u001b[0m\u001b[0;34m)\u001b[0m\u001b[0;34m)\u001b[0m\u001b[0;34m\u001b[0m\u001b[0;34m\u001b[0m\u001b[0m\n\u001b[0m",
            "\u001b[0;31mFileNotFoundError\u001b[0m: [Errno 2] No such file or directory: 'data/SIG.geojson'"
          ]
        }
      ],
      "source": [
        "# SIG.geojson : 대한민국의 시군구별 경계 좌표가 들어 있음\n",
        "# 행정 구역 코드, 지역 이름, 경계 위도/경도 좌표\n",
        "import json\n",
        "geo = json.load(open('data/SIG.geojson', encoding = 'UTF-8'))"
      ]
    },
    {
      "cell_type": "code",
      "execution_count": null,
      "id": "f807ce29",
      "metadata": {
        "id": "f807ce29"
      },
      "outputs": [],
      "source": [
        "type(geo)"
      ]
    },
    {
      "cell_type": "code",
      "execution_count": null,
      "id": "1ef86951",
      "metadata": {
        "id": "1ef86951"
      },
      "outputs": [],
      "source": [
        "geo.keys()"
      ]
    },
    {
      "cell_type": "code",
      "execution_count": null,
      "id": "5d0ce217",
      "metadata": {
        "id": "5d0ce217"
      },
      "outputs": [],
      "source": [
        "type(geo['features'])"
      ]
    },
    {
      "cell_type": "code",
      "execution_count": null,
      "id": "c21a0d6b",
      "metadata": {
        "id": "c21a0d6b"
      },
      "outputs": [],
      "source": [
        "len(geo['features'])"
      ]
    },
    {
      "cell_type": "code",
      "execution_count": null,
      "id": "05059ec9",
      "metadata": {
        "id": "05059ec9"
      },
      "outputs": [],
      "source": [
        "# 행정 구역 코드 출력\n",
        "geo['features'][0]['properties']"
      ]
    },
    {
      "cell_type": "code",
      "execution_count": null,
      "id": "f8c90b9d",
      "metadata": {
        "id": "f8c90b9d"
      },
      "outputs": [],
      "source": [
        "# 위도, 경도 좌표 출력\n",
        "geo['features'][0]['geometry']['coordinates']"
      ]
    },
    {
      "cell_type": "code",
      "execution_count": null,
      "id": "a107819e",
      "metadata": {
        "eval": false,
        "id": "a107819e"
      },
      "outputs": [],
      "source": [
        "# 행정 구역 코드 출력\n",
        "geo['features'][1]['properties']"
      ]
    },
    {
      "cell_type": "markdown",
      "id": "2773af4a",
      "metadata": {
        "id": "2773af4a"
      },
      "source": [
        "#### 2. 시군구별 인구 데이터 준비하기"
      ]
    },
    {
      "cell_type": "code",
      "execution_count": null,
      "id": "131aa078",
      "metadata": {
        "eval": false,
        "id": "131aa078"
      },
      "outputs": [],
      "source": [
        "# Population_SIG.csv 파일 : 시군구별 인구 통계 데이터, 시군구별 행정 코드/지역이름/인구\n",
        "import pandas as pd\n",
        "df_pop = pd.read_csv('data/Population_SIG.csv')\n",
        "df_pop.head()"
      ]
    },
    {
      "cell_type": "code",
      "execution_count": null,
      "id": "ab2f2986",
      "metadata": {
        "id": "ab2f2986"
      },
      "outputs": [],
      "source": [
        "df_pop.info()"
      ]
    },
    {
      "cell_type": "code",
      "execution_count": null,
      "id": "9fce6d0b",
      "metadata": {
        "id": "9fce6d0b"
      },
      "outputs": [],
      "source": [
        "# 행정 구역 코드가 문자 타입 -> 지도에 활용 가능\n",
        "df_pop['code'] = df_pop['code'].astype(str)"
      ]
    },
    {
      "cell_type": "markdown",
      "id": "26fd3f01",
      "metadata": {
        "id": "26fd3f01"
      },
      "source": [
        "#### 3. 단계 구분도 만들기"
      ]
    },
    {
      "cell_type": "code",
      "execution_count": null,
      "id": "98928bec",
      "metadata": {
        "id": "98928bec"
      },
      "outputs": [],
      "source": [
        "!pip show folium"
      ]
    },
    {
      "cell_type": "code",
      "execution_count": null,
      "id": "ac8ecae7",
      "metadata": {
        "id": "ac8ecae7"
      },
      "outputs": [],
      "source": [
        "# 위에서 없다면 다음으로 설치\n",
        "!pip install folium"
      ]
    },
    {
      "cell_type": "markdown",
      "id": "ed9bd46c",
      "metadata": {
        "id": "ed9bd46c"
      },
      "source": [
        "**(1) 배경 지도 만들기**"
      ]
    },
    {
      "cell_type": "code",
      "execution_count": null,
      "id": "86279091",
      "metadata": {
        "id": "86279091",
        "tags": [
          "remove_output"
        ]
      },
      "outputs": [],
      "source": [
        "import folium\n",
        "folium.Map(location = [37.22, 127.2],  # 지도 중심 좌표(위도, 경도)\n",
        "           zoom_start = 10)             # 확대 단계(지도를 확대할 정도)"
      ]
    },
    {
      "cell_type": "code",
      "execution_count": null,
      "id": "a56cadc2",
      "metadata": {
        "id": "a56cadc2",
        "tags": [
          "remove_output"
        ]
      },
      "outputs": [],
      "source": [
        "# 단계 구분도를 만드는 데 사용할 배경 지도 -> 지도 종류는 밝은색으로는 데 사용할 배경 지도 -> 지도 종류는 밝은색으로\n",
        "map_sig = folium.Map(location = [35.95, 127.7],  # 지도 중심 좌표\n",
        "                     zoom_start = 8,             # 확대 단계\n",
        "                     tiles = 'cartodbpositron')  # 지도 종류\n",
        "map_sig"
      ]
    },
    {
      "cell_type": "markdown",
      "id": "a0f2d146",
      "metadata": {
        "id": "a0f2d146"
      },
      "source": [
        "**(2) 단계 구분도 만들기**"
      ]
    },
    {
      "cell_type": "code",
      "execution_count": null,
      "id": "34e1e3ba",
      "metadata": {
        "id": "34e1e3ba",
        "tags": [
          "remove_output"
        ]
      },
      "outputs": [],
      "source": [
        "# 지도 데이터\n",
        "# 통계 데이터\n",
        "# df_pop 행정 구역 코드, 인구\n",
        "# geo 행정 구역 코드\n",
        "folium.Choropleth(geo_data = geo,\n",
        "                  data = df_pop,\n",
        "                  columns = ('code', 'pop'),\n",
        "                  key_on = 'feature.properties.SIG_CD') \\\n",
        "      .add_to(map_sig)\n",
        "\n",
        "map_sig"
      ]
    },
    {
      "cell_type": "markdown",
      "id": "ddbd327e",
      "metadata": {
        "id": "ddbd327e"
      },
      "source": [
        "**(3) 계급 구간 정하기**"
      ]
    },
    {
      "cell_type": "code",
      "execution_count": null,
      "id": "40031438",
      "metadata": {
        "id": "40031438"
      },
      "outputs": [],
      "source": [
        "# 계급 구간이 적당해야 지역별 색깔 표현 가능\n",
        "# 분위수를 이용해 지역을 적당히 나누는 계급 구간 정하기\n",
        "# quantile() 값을 크기순으로 나열한 다음, 입력한 비율에 해당하는 값인 분위수를 구하는 함수 -> 5가지 계급 구간(6개의 값이 필요)의 하한값, 상한값을 담은 bins만들기\n",
        "bins = list(df_pop['pop'].quantile([0, 0.2, 0.4, 0.6, 0.8, 1]))\n",
        "bins"
      ]
    },
    {
      "cell_type": "markdown",
      "id": "cfaf3895",
      "metadata": {
        "id": "cfaf3895"
      },
      "source": [
        "**(4) 디자인 수정하기**"
      ]
    },
    {
      "cell_type": "code",
      "execution_count": null,
      "id": "928d2c4b-0d1b-43d2-9cdf-c47924b832a3",
      "metadata": {
        "id": "928d2c4b-0d1b-43d2-9cdf-c47924b832a3",
        "tags": [
          "remove_output"
        ]
      },
      "outputs": [],
      "source": [
        "## 배경 지도 만들기\n",
        "\n",
        "# 지도 중심 좌표\n",
        "# 확대 단계\n",
        "# 지도 종류\n",
        "map_sig = folium.Map(location = [35.95, 127.7],\n",
        "                     zoom_start = 8,\n",
        "                     tiles = 'cartodbpositron')"
      ]
    },
    {
      "cell_type": "code",
      "execution_count": null,
      "id": "dd0e39a5-5e0a-4442-bef5-f6752ac43cd9",
      "metadata": {
        "eval": false,
        "id": "dd0e39a5-5e0a-4442-bef5-f6752ac43cd9"
      },
      "outputs": [],
      "source": [
        "## 단계 구분도 만들기\n",
        "\n",
        "# 지도 데이터\n",
        "# 통계 데이터\n",
        "# df_pop 행정 구역 코드, 인구\n",
        "# geo 행정 구역 코드\n",
        "# 컬러맵\n",
        "# 투명도\n",
        "# 경계선 투명도\n",
        "# 계급 구간 기준값\n",
        "# 배경 지도에 추가\n",
        "folium.Choropleth(geo_data = geo,\n",
        "                  data = df_pop,\n",
        "                  columns = ('code', 'pop'),\n",
        "                  key_on = 'feature.properties.SIG_CD',\n",
        "                  fill_color = 'YlGnBu',\n",
        "                  fill_opacity = 1,\n",
        "                  line_opacity = 0.5,\n",
        "                  bins = bins) \\\n",
        "      .add_to(map_sig)\n",
        "\n",
        "map_sig"
      ]
    },
    {
      "cell_type": "markdown",
      "id": "6d924db5",
      "metadata": {
        "id": "6d924db5"
      },
      "source": [
        "## 11-2 서울시 동별 외국인 인구 단계 구분도 만들기\n",
        "- 단계 구분도 -> 최적의 장소 정하는데 활용\n",
        "- 지자체 -> 외국인의 생활을 돕는 시설을 지을 장소 정할 때\n",
        "### 서울시 동별 외국인 인구 단계 구분도 만들기\n",
        "\n",
        "#### 1. 서울시 동 경계 지도 데이터 준비하기"
      ]
    },
    {
      "cell_type": "code",
      "execution_count": null,
      "id": "cb44071f",
      "metadata": {
        "eval": false,
        "id": "cb44071f"
      },
      "outputs": [],
      "source": [
        "# EMD_Seoul.geojson : 서울시의 동 경계 좌표가 들어있는 파일, 서울시의 동별 행정 구역 코드, 동 이름, 동 경계 위도/경도 좌표\n",
        "import json\n",
        "geo_seoul = json.load(open('data/EMD_Seoul.geojson', encoding = 'UTF-8'))"
      ]
    },
    {
      "cell_type": "code",
      "execution_count": null,
      "id": "db6d20af",
      "metadata": {
        "eval": false,
        "id": "db6d20af"
      },
      "outputs": [],
      "source": [
        "# 행정 구역 코드 출력\n",
        "geo_seoul['features'][0]['properties']"
      ]
    },
    {
      "cell_type": "code",
      "execution_count": null,
      "id": "e756000b",
      "metadata": {
        "eval": false,
        "id": "e756000b"
      },
      "outputs": [],
      "source": [
        "# 위도, 경도 좌표 출력\n",
        "geo_seoul['features'][0]['geometry']"
      ]
    },
    {
      "cell_type": "markdown",
      "id": "7aab8274",
      "metadata": {
        "id": "7aab8274"
      },
      "source": [
        "#### 2. 서울시 동별 외국인 인구 데이터 준비하기"
      ]
    },
    {
      "cell_type": "code",
      "execution_count": null,
      "id": "5f8bbd35",
      "metadata": {
        "eval": false,
        "id": "5f8bbd35"
      },
      "outputs": [],
      "source": [
        "# Foreigner_EMD_Seoul.csv : 2021년 서울시의 동별 행정 구역 코드, 동 이름, 외국인 인구\n",
        "foreigner = pd.read_csv('data/Foreigner_EMD_Seoul.csv')\n",
        "foreigner.head()"
      ]
    },
    {
      "cell_type": "code",
      "execution_count": null,
      "id": "12088403",
      "metadata": {
        "id": "12088403"
      },
      "outputs": [],
      "source": [
        "foreigner.info()"
      ]
    },
    {
      "cell_type": "code",
      "execution_count": null,
      "id": "6088130a",
      "metadata": {
        "id": "6088130a"
      },
      "outputs": [],
      "source": [
        "foreigner['code'] = foreigner['code'].astype(str)"
      ]
    },
    {
      "cell_type": "markdown",
      "id": "b37314d3",
      "metadata": {
        "id": "b37314d3"
      },
      "source": [
        "#### 3. 단계 구분도 만들기"
      ]
    },
    {
      "cell_type": "code",
      "execution_count": null,
      "id": "5b068105",
      "metadata": {
        "id": "5b068105"
      },
      "outputs": [],
      "source": [
        "bins = list(foreigner['pop'].quantile([0, 0.2, 0.4, 0.5, 0.6, 0.7, 0.8, 0.9, 1]))\n",
        "bins"
      ]
    },
    {
      "cell_type": "code",
      "execution_count": null,
      "id": "5314c575-2e43-4fc4-b13c-340f7a97066e",
      "metadata": {
        "id": "5314c575-2e43-4fc4-b13c-340f7a97066e",
        "tags": [
          "remove_output"
        ]
      },
      "outputs": [],
      "source": [
        "## 배경 지도 만들기\n",
        "\n",
        "# 서울 좌표\n",
        "# 확대 단계\n",
        "# 지도 종류\n",
        "map_seoul = folium.Map(location = [37.56, 127],\n",
        "                       zoom_start = 12,\n",
        "                       tiles = 'cartodbpositron')"
      ]
    },
    {
      "cell_type": "code",
      "execution_count": null,
      "id": "31feb8e3-0d78-42e0-a358-47216cc5bbe1",
      "metadata": {
        "id": "31feb8e3-0d78-42e0-a358-47216cc5bbe1",
        "tags": [
          "remove_output"
        ]
      },
      "outputs": [],
      "source": [
        "## 단계구분도 만들기\n",
        "\n",
        "# 지도 데이터\n",
        "# 통계 데이터\n",
        "# foreigner 행정 구역 코드, 인구\n",
        "# geo_seoul 행정 구역 코드\n",
        "# 컬러맵\n",
        "# 결측치 색깔\n",
        "# 투명도\n",
        "# 경계선 투명도\n",
        "# 계급 구간 기준값\n",
        "# 배경 지도에 추가\n",
        "folium.Choropleth(geo_data = geo_seoul,\n",
        "                  data = foreigner,\n",
        "                  columns = ('code', 'pop'),\n",
        "                  key_on = 'feature.properties.ADM_DR_CD',\n",
        "                  fill_color = 'Blues',\n",
        "                  nan_fill_color = 'White',\n",
        "                  fill_opacity = 1,\n",
        "                  line_opacity = 0.5,\n",
        "                  bins = bins) \\\n",
        "      .add_to(map_seoul)\n",
        "\n",
        "map_seoul"
      ]
    },
    {
      "cell_type": "markdown",
      "id": "dc103d2c",
      "metadata": {
        "id": "dc103d2c"
      },
      "source": [
        "#### 4. 구 경계선 추가하기"
      ]
    },
    {
      "cell_type": "code",
      "execution_count": null,
      "id": "8a7120e2",
      "metadata": {
        "eval": false,
        "id": "8a7120e2"
      },
      "outputs": [],
      "source": [
        "# SIG_Seoul.geojson  : 서울시의 구 경계 좌표를 담은 파일\n",
        "geo_seoul_sig = json.load(open('data/SIG_Seoul.geojson', encoding = 'UTF-8'))"
      ]
    },
    {
      "cell_type": "code",
      "execution_count": null,
      "id": "b0750945",
      "metadata": {
        "id": "b0750945",
        "tags": [
          "remove_output"
        ]
      },
      "outputs": [],
      "source": [
        "## 서울 구 라인 추가\n",
        "\n",
        "# 지도 데이터\n",
        "# 투명도\n",
        "# 선 두께\n",
        "# 지도에 추가\n",
        "folium.Choropleth(geo_data = geo_seoul_sig,\n",
        "                  fill_opacity = 0,\n",
        "                  line_weight = 2) \\\n",
        "      .add_to(map_seoul)\n",
        "\n",
        "map_seoul"
      ]
    },
    {
      "cell_type": "markdown",
      "id": "41f52ea0",
      "metadata": {
        "id": "41f52ea0"
      },
      "source": [
        "-----------------------------------------------------------------------\n",
        "\n",
        "### (알아 두면 좋아요) `folium` 활용하기\n",
        "\n",
        "**HTML 파일로 저장하기**"
      ]
    },
    {
      "cell_type": "code",
      "execution_count": null,
      "id": "bcb6fac6",
      "metadata": {
        "eval": false,
        "id": "bcb6fac6"
      },
      "outputs": [],
      "source": [
        "map_seoul.save('map_seoul.html')"
      ]
    },
    {
      "cell_type": "markdown",
      "id": "a99e91c4",
      "metadata": {
        "id": "a99e91c4"
      },
      "source": [
        "**웹 브라우저에서 html 파일 열기**"
      ]
    },
    {
      "cell_type": "code",
      "execution_count": null,
      "id": "85276b95",
      "metadata": {
        "eval": false,
        "id": "85276b95"
      },
      "outputs": [],
      "source": [
        "import webbrowser\n",
        "webbrowser.open_new('map_seoul.html')"
      ]
    },
    {
      "cell_type": "markdown",
      "id": "c915f1ad",
      "metadata": {
        "id": "c915f1ad"
      },
      "source": [
        "### [folium](https://github.com/python-visualization/folium)"
      ]
    },
    {
      "cell_type": "markdown",
      "id": "05321609",
      "metadata": {
        "id": "05321609"
      },
      "source": [
        "# end"
      ]
    }
  ],
  "metadata": {
    "colab": {
      "provenance": [],
      "include_colab_link": true
    },
    "jupytext": {
      "cell_metadata_filter": "echo,eval,name,tags,-all",
      "notebook_metadata_filter": "-all"
    },
    "kernelspec": {
      "display_name": "Python 3 (ipykernel)",
      "language": "python",
      "name": "python3"
    },
    "language_info": {
      "codemirror_mode": {
        "name": "ipython",
        "version": 3
      },
      "file_extension": ".py",
      "mimetype": "text/x-python",
      "name": "python",
      "nbconvert_exporter": "python",
      "pygments_lexer": "ipython3",
      "version": "3.11.3"
    }
  },
  "nbformat": 4,
  "nbformat_minor": 5
}